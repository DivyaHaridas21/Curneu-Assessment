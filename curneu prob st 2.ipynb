{
 "cells": [
  {
   "cell_type": "code",
   "execution_count": 10,
   "metadata": {},
   "outputs": [
    {
     "name": "stdout",
     "output_type": "stream",
     "text": [
      "Index(['Pregnancies', 'Glucose', 'BloodPressure', 'SkinThickness', 'Insulin',\n",
      "       'BMI', 'DiabetesPedigreeFunction', 'Age', 'Outcome'],\n",
      "      dtype='object')\n"
     ]
    }
   ],
   "source": [
    "import pandas as pd\n",
    "import numpy as np\n",
    "import matplotlib.pyplot as plt\n",
    "%matplotlib inline\n",
    "diabetes = pd.read_csv('C:/Users/Divya Haridas/Desktop/Diabetes Database.csv')\n",
    "print(diabetes.columns)"
   ]
  },
  {
   "cell_type": "code",
   "execution_count": 11,
   "metadata": {},
   "outputs": [
    {
     "data": {
      "text/html": [
       "<div>\n",
       "<style scoped>\n",
       "    .dataframe tbody tr th:only-of-type {\n",
       "        vertical-align: middle;\n",
       "    }\n",
       "\n",
       "    .dataframe tbody tr th {\n",
       "        vertical-align: top;\n",
       "    }\n",
       "\n",
       "    .dataframe thead th {\n",
       "        text-align: right;\n",
       "    }\n",
       "</style>\n",
       "<table border=\"1\" class=\"dataframe\">\n",
       "  <thead>\n",
       "    <tr style=\"text-align: right;\">\n",
       "      <th></th>\n",
       "      <th>Pregnancies</th>\n",
       "      <th>Glucose</th>\n",
       "      <th>BloodPressure</th>\n",
       "      <th>SkinThickness</th>\n",
       "      <th>Insulin</th>\n",
       "      <th>BMI</th>\n",
       "      <th>DiabetesPedigreeFunction</th>\n",
       "      <th>Age</th>\n",
       "      <th>Outcome</th>\n",
       "    </tr>\n",
       "  </thead>\n",
       "  <tbody>\n",
       "    <tr>\n",
       "      <th>0</th>\n",
       "      <td>6</td>\n",
       "      <td>148</td>\n",
       "      <td>72</td>\n",
       "      <td>35</td>\n",
       "      <td>0</td>\n",
       "      <td>33.6</td>\n",
       "      <td>0.627</td>\n",
       "      <td>50</td>\n",
       "      <td>1</td>\n",
       "    </tr>\n",
       "    <tr>\n",
       "      <th>1</th>\n",
       "      <td>1</td>\n",
       "      <td>85</td>\n",
       "      <td>66</td>\n",
       "      <td>29</td>\n",
       "      <td>0</td>\n",
       "      <td>26.6</td>\n",
       "      <td>0.351</td>\n",
       "      <td>31</td>\n",
       "      <td>0</td>\n",
       "    </tr>\n",
       "    <tr>\n",
       "      <th>2</th>\n",
       "      <td>8</td>\n",
       "      <td>183</td>\n",
       "      <td>64</td>\n",
       "      <td>0</td>\n",
       "      <td>0</td>\n",
       "      <td>23.3</td>\n",
       "      <td>0.672</td>\n",
       "      <td>32</td>\n",
       "      <td>1</td>\n",
       "    </tr>\n",
       "    <tr>\n",
       "      <th>3</th>\n",
       "      <td>1</td>\n",
       "      <td>89</td>\n",
       "      <td>66</td>\n",
       "      <td>23</td>\n",
       "      <td>94</td>\n",
       "      <td>28.1</td>\n",
       "      <td>0.167</td>\n",
       "      <td>21</td>\n",
       "      <td>0</td>\n",
       "    </tr>\n",
       "    <tr>\n",
       "      <th>4</th>\n",
       "      <td>0</td>\n",
       "      <td>137</td>\n",
       "      <td>40</td>\n",
       "      <td>35</td>\n",
       "      <td>168</td>\n",
       "      <td>43.1</td>\n",
       "      <td>2.288</td>\n",
       "      <td>33</td>\n",
       "      <td>1</td>\n",
       "    </tr>\n",
       "  </tbody>\n",
       "</table>\n",
       "</div>"
      ],
      "text/plain": [
       "   Pregnancies  Glucose  BloodPressure  SkinThickness  Insulin   BMI  \\\n",
       "0            6      148             72             35        0  33.6   \n",
       "1            1       85             66             29        0  26.6   \n",
       "2            8      183             64              0        0  23.3   \n",
       "3            1       89             66             23       94  28.1   \n",
       "4            0      137             40             35      168  43.1   \n",
       "\n",
       "   DiabetesPedigreeFunction  Age  Outcome  \n",
       "0                     0.627   50        1  \n",
       "1                     0.351   31        0  \n",
       "2                     0.672   32        1  \n",
       "3                     0.167   21        0  \n",
       "4                     2.288   33        1  "
      ]
     },
     "execution_count": 11,
     "metadata": {},
     "output_type": "execute_result"
    }
   ],
   "source": [
    "diabetes.head()"
   ]
  },
  {
   "cell_type": "code",
   "execution_count": 13,
   "metadata": {},
   "outputs": [
    {
     "name": "stdout",
     "output_type": "stream",
     "text": [
      "Dimension of the Diabetes Dataset: (768, 9)\n"
     ]
    }
   ],
   "source": [
    "print(\"Dimension of the Diabetes Dataset: {}\".format(diabetes.shape))"
   ]
  },
  {
   "cell_type": "code",
   "execution_count": 14,
   "metadata": {},
   "outputs": [
    {
     "name": "stdout",
     "output_type": "stream",
     "text": [
      "Outcome\n",
      "0    500\n",
      "1    268\n",
      "dtype: int64\n"
     ]
    }
   ],
   "source": [
    "print(diabetes.groupby('Outcome').size())"
   ]
  },
  {
   "cell_type": "code",
   "execution_count": 16,
   "metadata": {},
   "outputs": [
    {
     "data": {
      "text/plain": [
       "<matplotlib.axes._subplots.AxesSubplot at 0x21cdcac0ee0>"
      ]
     },
     "execution_count": 16,
     "metadata": {},
     "output_type": "execute_result"
    },
    {
     "data": {
      "image/png": "[encoded data removed]",
      "text/plain": [
       "<Figure size 432x288 with 1 Axes>"
      ]
     },
     "metadata": {
      "needs_background": "light"
     },
     "output_type": "display_data"
    }
   ],
   "source": [
    "import seaborn as sns\n",
    "sns.countplot(diabetes['Outcome'],label=\"Count\")"
   ]
  },
  {
   "cell_type": "code",
   "execution_count": 17,
   "metadata": {},
   "outputs": [
    {
     "name": "stdout",
     "output_type": "stream",
     "text": [
      "<class 'pandas.core.frame.DataFrame'>\n",
      "RangeIndex: 768 entries, 0 to 767\n",
      "Data columns (total 9 columns):\n",
      " #   Column                    Non-Null Count  Dtype  \n",
      "---  ------                    --------------  -----  \n",
      " 0   Pregnancies               768 non-null    int64  \n",
      " 1   Glucose                   768 non-null    int64  \n",
      " 2   BloodPressure             768 non-null    int64  \n",
      " 3   SkinThickness             768 non-null    int64  \n",
      " 4   Insulin                   768 non-null    int64  \n",
      " 5   BMI                       768 non-null    float64\n",
      " 6   DiabetesPedigreeFunction  768 non-null    float64\n",
      " 7   Age                       768 non-null    int64  \n",
      " 8   Outcome                   768 non-null    int64  \n",
      "dtypes: float64(2), int64(7)\n",
      "memory usage: 54.1 KB\n"
     ]
    }
   ],
   "source": [
    "diabetes.info()"
   ]
  },
  {
   "cell_type": "code",
   "execution_count": 7,
   "metadata": {},
   "outputs": [
    {
     "name": "stdout",
     "output_type": "stream",
     "text": [
      "Index(['Pregnancies', 'Glucose', 'BloodPressure', 'SkinThickness', 'Insulin',\n",
      "       'BMI', 'DiabetesPedigreeFunction', 'Age', 'Outcome'],\n",
      "      dtype='object')\n",
      "Pregnancies                   0\n",
      "Glucose                       5\n",
      "BloodPressure                35\n",
      "SkinThickness               227\n",
      "Insulin                     374\n",
      "BMI                          11\n",
      "DiabetesPedigreeFunction      0\n",
      "Age                           0\n",
      "Outcome                       0\n",
      "dtype: int64\n"
     ]
    }
   ],
   "source": [
    "import pandas as pd\n",
    "import numpy as np\n",
    "import matplotlib.pyplot as plt\n",
    "diabetes = pd.read_csv('C:/Users/Divya Haridas/Desktop/Diabetes Database.csv')\n",
    "print(diabetes.columns)\n",
    "diabetesdata = diabetes.copy(deep = True)\n",
    "diabetesdata[['Glucose','BloodPressure','SkinThickness','Insulin','BMI']] = diabetesdata[['Glucose','BloodPressure','SkinThickness','Insulin','BMI']].replace(0,np.NaN)\n",
    "\n",
    "## showing the count of Nans\n",
    "print(diabetesdata.isnull().sum())"
   ]
  },
  {
   "cell_type": "code",
   "execution_count": 14,
   "metadata": {},
   "outputs": [
    {
     "data": {
      "image/png": "[encoded data removed]",
      "text/plain": [
       "<Figure size 720x720 with 9 Axes>"
      ]
     },
     "metadata": {
      "needs_background": "light"
     },
     "output_type": "display_data"
    }
   ],
   "source": [
    "p = diabetesdata.hist(figsize = (10,10))"
   ]
  },
  {
   "cell_type": "code",
   "execution_count": 15,
   "metadata": {},
   "outputs": [
    {
     "data": {
      "image/png": "[encoded data removed]",
      "text/plain": [
       "<Figure size 720x720 with 9 Axes>"
      ]
     },
     "metadata": {
      "needs_background": "light"
     },
     "output_type": "display_data"
    }
   ],
   "source": [
    "diabetesdata['Glucose'].fillna(diabetesdata['Glucose'].mean(), inplace = True)\n",
    "diabetesdata['BloodPressure'].fillna(diabetesdata['BloodPressure'].mean(), inplace = True)\n",
    "diabetesdata['SkinThickness'].fillna(diabetesdata['SkinThickness'].median(), inplace = True)\n",
    "diabetesdata['Insulin'].fillna(diabetesdata['Insulin'].median(), inplace = True)\n",
    "diabetesdata['BMI'].fillna(diabetesdata['BMI'].median(), inplace = True)\n",
    "\n",
    "p = diabetesdata.hist(figsize = (10,10))"
   ]
  },
  {
   "cell_type": "code",
   "execution_count": 34,
   "metadata": {},
   "outputs": [
    {
     "name": "stdout",
     "output_type": "stream",
     "text": [
      "Predicted values by our model     :   [185.67 104.67  76.33]\n",
      "Predicted values by sklearn model :   [185.67 104.67  76.33]\n",
      "Real values                       :   [199 107  76]\n"
     ]
    }
   ],
   "source": [
    " \n",
    "import pandas as pd   \n",
    "import numpy as np   \n",
    "from sklearn.model_selection import train_test_split   \n",
    "from sklearn.neighbors import KNeighborsRegressor \n",
    "  \n",
    "class K_Nearest_Neighbors_Regressor() :  \n",
    "      def __init__( self, K ) : \n",
    "            self.K = K \n",
    "          \n",
    "    def fit( self, X_train, Y_train ) : \n",
    "        self.X_train = X_train \n",
    "        self.Y_train = Y_train \n",
    "        self.m, self.n = X_train.shape \n",
    "      \n",
    "    def predict( self, X_test ) : \n",
    "        self.X_test = X_test \n",
    "        self.m_test, self.n = X_test.shape \n",
    "          \n",
    "\n",
    "          \n",
    "        Y_predict = np.zeros( self.m_test ) \n",
    "          \n",
    "        for i in range( self.m_test ) : \n",
    "            x = self.X_test[i] \n",
    "            neighbors = np.zeros( self.K ) \n",
    "            neighbors = self.find_neighbors( x )  \n",
    "            Y_predict[i] = np.mean( neighbors ) \n",
    "              \n",
    "        return Y_predict  \n",
    "            \n",
    "    def find_neighbors( self, x ) : \n",
    "          euclidean_distances = np.zeros( self.m ) \n",
    "          \n",
    "        for i in range( self.m ) : \n",
    "            d = self.euclidean( x, self.X_train[i] ) \n",
    "            euclidean_distances[i] = d \n",
    "\n",
    "            inds = euclidean_distances.argsort() \n",
    "            Y_train_sorted = self.Y_train[inds] \n",
    "            return Y_train_sorted[:self.K]\n",
    "              \n",
    "    def euclidean( self, x, x_train ) : \n",
    "        return np.sqrt( np.sum( np.square( x - x_train ) ) ) \n",
    "    def main() : \n",
    "        df = pd.read_csv( \"C:/Users/Divya Haridas/Desktop/Diabetes Database.csv\" ) \n",
    "        X = df.iloc[:,:-1].values \n",
    "        Y = df.iloc[:,1].values \n",
    "        X_train, X_test, Y_train, Y_test = train_test_split(X, Y, test_size = 1/3, random_state = 0 ) \n",
    "      \n",
    "    \n",
    "    model = K_Nearest_Neighbors_Regressor( K = 3 ) \n",
    "    model.fit( X_train, Y_train ) \n",
    "    model1 = KNeighborsRegressor( n_neighbors = 3 ) \n",
    "    model1.fit( X_train, Y_train ) \n",
    "    Y_pred = model.predict( X_test ) \n",
    "    Y_pred1 =  model1.predict( X_test ) \n",
    "    print( \"Predicted values by our model     :  \", np.round( Y_pred[:3], 2 ) )  \n",
    "    print( \"Predicted values by sklearn model :  \", np.round( Y_pred1[:3], 2 ) ) \n",
    "    print( \"Real values                       :  \", Y_test[:3] ) \n",
    "  \n",
    "  \n",
    "if __name__ == \"__main__\" :  \n",
    "    main()"
   ]
  },
  {
   "cell_type": "code",
   "execution_count": 36,
   "metadata": {},
   "outputs": [
    {
     "name": "stderr",
     "output_type": "stream",
     "text": [
      "<ipython-input-36-604b27ea5e02>:117: DataConversionWarning: A column-vector y was passed when a 1d array was expected. Please change the shape of y to (n_samples, ), for example using ravel().\n",
      "  model1.fit( X_train, Y_train )\n"
     ]
    },
    {
     "name": "stdout",
     "output_type": "stream",
     "text": [
      "Accuracy on test set by our model       :   75.0\n",
      "Accuracy on test set by sklearn model   :   75.0\n"
     ]
    }
   ],
   "source": [
    "# Importing libraries \n",
    "  \n",
    "import pandas as pd \n",
    "  \n",
    "import numpy as np \n",
    "  \n",
    "from sklearn.model_selection import train_test_split \n",
    "  \n",
    "from scipy.stats import mode \n",
    "  \n",
    "from sklearn.neighbors import KNeighborsClassifier \n",
    "  \n",
    "# K Nearest Neighbors Classification \n",
    "  \n",
    "class K_Nearest_Neighbors_Classifier() :  \n",
    "      \n",
    "    def __init__( self, K ) : \n",
    "          \n",
    "        self.K = K \n",
    "          \n",
    "    # Function to store training set \n",
    "          \n",
    "    def fit( self, X_train, Y_train ) : \n",
    "          \n",
    "        self.X_train = X_train \n",
    "          \n",
    "        self.Y_train = Y_train \n",
    "          \n",
    "        # no_of_training_examples, no_of_features \n",
    "          \n",
    "        self.m, self.n = X_train.shape \n",
    "      \n",
    "    # Function for prediction \n",
    "          \n",
    "    def predict( self, X_test ) : \n",
    "          \n",
    "        self.X_test = X_test \n",
    "          \n",
    "        # no_of_test_examples, no_of_features \n",
    "          \n",
    "        self.m_test, self.n = X_test.shape \n",
    "          \n",
    "        # initialize Y_predict \n",
    "          \n",
    "        Y_predict = np.zeros( self.m_test ) \n",
    "          \n",
    "        for i in range( self.m_test ) : \n",
    "              \n",
    "            x = self.X_test[i] \n",
    "              \n",
    "            # find the K nearest neighbors from current test example \n",
    "              \n",
    "            neighbors = np.zeros( self.K ) \n",
    "              \n",
    "            neighbors = self.find_neighbors( x ) \n",
    "              \n",
    "            # most frequent class in K neighbors \n",
    "              \n",
    "            Y_predict[i] = mode( neighbors )[0][0]     \n",
    "              \n",
    "        return Y_predict \n",
    "            \n",
    "    def find_neighbors( self, x ) : \n",
    "          \n",
    "       \n",
    "          \n",
    "        \n",
    "def main() : \n",
    "      \n",
    "    # Importing dataset \n",
    "      \n",
    "    df = pd.read_csv( \"C:/Users/Divya Haridas/Desktop/Diabetes Database.csv\" ) \n",
    "  \n",
    "    X = df.iloc[:,:-1].values \n",
    "  \n",
    "    Y = df.iloc[:,-1:].values \n",
    "  \n",
    "    X_train, X_test, Y_train, Y_test = train_test_split(  \n",
    "      X, Y, test_size = 1/3, random_state = 0 ) \n",
    "      \n",
    "    model = K_Nearest_Neighbors_Classifier( K = 12 ) \n",
    "      \n",
    "    model.fit( X_train, Y_train ) \n",
    "      \n",
    "    model1 = KNeighborsClassifier( n_neighbors = 12 ) \n",
    "      \n",
    "    model1.fit( X_train, Y_train ) \n",
    "  \n",
    "    Y_pred = model.predict( X_test ) \n",
    "      \n",
    "    Y_pred1 = model1.predict( X_test ) \n",
    "      \n",
    "    correctly_classified = 0\n",
    "      \n",
    "    correctly_classified1 = 0 \n",
    "      \n",
    "    count = 0\n",
    "      \n",
    "    for count in range( np.size( Y_pred ) ) : \n",
    "          \n",
    "        if Y_test[count] == Y_pred[count] : \n",
    "              \n",
    "            correctly_classified = correctly_classified + 1\n",
    "          \n",
    "        if Y_test[count] == Y_pred1[count] : \n",
    "              \n",
    "            correctly_classified1 = correctly_classified1 + 1\n",
    "              \n",
    "        count = count + 1\n",
    "          \n",
    "    print( \"Accuracy on test set by our model       :  \", (  \n",
    "      correctly_classified / count ) * 100 ) \n",
    "    print( \"Accuracy on test set by sklearn model   :  \", (  \n",
    "      correctly_classified1 / count ) * 100 ) \n",
    "      \n",
    "if __name__ == \"__main__\" :  \n",
    "    main()"
   ]
  },
  {
   "cell_type": "code",
   "execution_count": null,
   "metadata": {},
   "outputs": [],
   "source": []
  }
 ],
 "metadata": {
  "kernelspec": {
   "display_name": "Python 3",
   "language": "python",
   "name": "python3"
  },
  "language_info": {
   "codemirror_mode": {
    "name": "ipython",
    "version": 3
   },
   "file_extension": ".py",
   "mimetype": "text/x-python",
   "name": "python",
   "nbconvert_exporter": "python",
   "pygments_lexer": "ipython3",
   "version": "3.8.3"
  }
 },
 "nbformat": 4,
 "nbformat_minor": 4
}
